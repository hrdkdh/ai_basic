{
 "cells": [
  {
   "cell_type": "markdown",
   "metadata": {},
   "source": [
    "### 아래 실습 코드는 PC에서 진행하는 것으로 가정하고 작성되었습니다.\n",
    "\n",
    "### Kaggle에서 모델을 만든 경우, 아래 절차대로 모델을 다운로드 받은 후 코드를 실행해 주세요.\n",
    "\n",
    "\n",
    "1. 우측 메뉴에 있는 \"/kaggle/working\" 폴더를 클릭\n",
    "\n",
    "2. my_model.h5 우측으로 마우스 이동 후 점세개 모양 버튼 클릭 후 다운로드 클릭\n",
    "\n",
    "3. pc의 \"d:/작업방\" 폴더에 \"ai\" 폴더 생성 (다른 폴더도 상관없음)\n",
    "\n",
    "4. 캐글에서 다운로드 받은 \"my_model.h5\" 파일을 \"ai\" 폴더에 복사\n",
    "\n",
    "5. pc의 \"ai\" 폴더 하위에 test_images 폴더 생성 \n",
    "\n",
    "6. github test_images 폴더에 있는 이미지 파일 16개를 \"ai/test_images\" 폴더에 복사\n",
    "\n",
    "7. \"ai\" 폴더에서 jupyter notebook 실행 \n"
   ]
  },
  {
   "cell_type": "code",
   "execution_count": null,
   "metadata": {},
   "outputs": [],
   "source": [
    "#모듈 불러오기\n",
    "import os\n",
    "import numpy as np\n",
    "import tensorflow as tf\n",
    "import matplotlib.pyplot as plt\n",
    "\n",
    "from glob import glob\n",
    "from PIL import Image\n",
    "\n",
    "#모델 불러오기\n",
    "model = tf.keras.models.load_model(\"my_model.h5\")\n",
    "model.summary()"
   ]
  },
  {
   "cell_type": "code",
   "execution_count": null,
   "metadata": {},
   "outputs": [],
   "source": [
    "#라벨 만들기\n",
    "class_names = [\"Crazing\", \"Inclusion\", \"Patches\", \"Pitted\", \"Rolled\", \"Scratches\"]\n",
    "\n",
    "#test 이미지 1개 확인\n",
    "image_pil = Image.open(\"test_images/Pa_101.bmp\").convert(\"RGB\") #컬러 이미지로 불러오기\n",
    "img = np.array(image_pil) #array로 변환\n",
    "img = img/255. #리스케일\n",
    "img = img[tf.newaxis, ...] #앞쪽에 배열 추가,  1,200,200,3 \n",
    "pred = model.predict(img) #모델을 활용하여 img 예측, pred는 6개의 확률값\n",
    "classes = np.argmax(pred) #첫번째 배열에서 가장 큰 값의 위치 찾기\n",
    "confidence = round(np.max(pred)*100,2) #확률값 계산\n",
    "names = class_names[classes] #class_names 찾기\n",
    "title = \"{} : {}\".format(names, confidence) #타이틀 텍스트 만들기\t\n",
    "plt.title(title)\n",
    "plt.imshow(np.squeeze(img), \"gray\") #200,200 이미지 출력\n",
    "plt.show()\n",
    "\n",
    "#경로 저장하기\n",
    "os.listdir(\"test_images\")\n",
    "files = glob(\"test_images/*\") #test 폴더아래 모든파일 불러오기"
   ]
  },
  {
   "cell_type": "code",
   "execution_count": null,
   "metadata": {},
   "outputs": [],
   "source": [
    "#test 이미지 16건을 분류, 확률값이 80% 이하일 경우 적색 텍스트로 출력 \n",
    "i=1\n",
    "plt.figure(figsize=(16,16))\n",
    "for file in files:\n",
    "    image_pil = Image.open(file).convert(\"RGB\")\n",
    "    img = np.array(image_pil)\n",
    "    img = img/255.\n",
    "    img = img[tf.newaxis, ...]\n",
    "    pred = model.predict(img)\n",
    "    classes = np.argmax(pred)\n",
    "    confidence = round(np.max(pred)*100, 2)\n",
    "    names = class_names[classes]\n",
    "    title = \"{} : {}% (True : {})\".format(names, confidence, file.split(\"\\\\\")[1].split(\"_\")[0])\n",
    "    plt.subplot(4, 4, i)\n",
    "    if confidence < 80:\n",
    "        plt.title(title, color=\"red\")\n",
    "    else:\n",
    "        plt.title(title, color=\"blue\")\n",
    "    plt.imshow(np.squeeze(img), \"gray\")\n",
    "    i += 1\n",
    "plt.show()"
   ]
  }
 ],
 "metadata": {
  "interpreter": {
   "hash": "eaced25f405a968501a0306bf52a330115d216124dbbb2ff2564a9806cc98559"
  },
  "kernelspec": {
   "display_name": "Python 3.8.5 64-bit",
   "language": "python",
   "name": "python3"
  },
  "language_info": {
   "codemirror_mode": {
    "name": "ipython",
    "version": 3
   },
   "file_extension": ".py",
   "mimetype": "text/x-python",
   "name": "python",
   "nbconvert_exporter": "python",
   "pygments_lexer": "ipython3",
   "version": "3.9.10"
  },
  "orig_nbformat": 4
 },
 "nbformat": 4,
 "nbformat_minor": 2
}
