{
 "cells": [
  {
   "cell_type": "markdown",
   "metadata": {},
   "source": [
    "# 1. 모델 학습"
   ]
  },
  {
   "cell_type": "markdown",
   "metadata": {},
   "source": [
    "1-1. 데이터 로드"
   ]
  },
  {
   "cell_type": "code",
   "execution_count": null,
   "metadata": {},
   "outputs": [],
   "source": [
    "#모듈 불러오기\n",
    "import numpy as np\n",
    "import pandas as pd\n",
    "import tensorflow as tf\n",
    "import matplotlib.pyplot as plt\n",
    "\n",
    "#데이터 불러오기 및 확인\n",
    "df = pd.read_csv(\"dataset_used_car/used_car.csv\")\n",
    "df #데이터 출력"
   ]
  },
  {
   "cell_type": "code",
   "execution_count": null,
   "metadata": {},
   "outputs": [],
   "source": [
    "print(df.shape) #데이터 크기\n",
    "print(df.info()) #범주형 변수, 수치형 변수 확인\n",
    "\n",
    "#범주형 데이터 확인, 범주형 별수별 카테고리 출력\n",
    "print(df[\"Location\"].unique())\n",
    "print(df[\"Fuel_Type\"].unique())\n",
    "print(df[\"Transmission\"].unique())\n",
    "print(df[\"Owner_Type\"].unique())"
   ]
  },
  {
   "cell_type": "markdown",
   "metadata": {},
   "source": [
    "1-2. 데이터셋 전처리"
   ]
  },
  {
   "cell_type": "code",
   "execution_count": null,
   "metadata": {},
   "outputs": [],
   "source": [
    "#결측치 검출\n",
    "df.isnull().sum() #열별 결측치 행 수 파악\n",
    "df.drop([\"New_Price\"],axis=1, inplace=True) #결측치가 많아 분석에 무의미한 New_Price 열 제거\n",
    "df.dropna(inplace=True) #열별 결측치 행 수 파악, 결측치 없음 확인\n",
    "df.isnull().sum()"
   ]
  },
  {
   "cell_type": "code",
   "execution_count": null,
   "metadata": {},
   "outputs": [],
   "source": [
    "df.shape #데이터셋 크기 확인  5872 x 12\n",
    "df = df.reset_index(drop=True) #인덱스 리셋\n",
    "df.tail() #데이터셋의 마지막 위치 인덱스 확인"
   ]
  },
  {
   "cell_type": "code",
   "execution_count": null,
   "metadata": {},
   "outputs": [],
   "source": [
    "#범주형 데이터에서 수치 분리, 각 열을 공백으로 분리하고 첫번째 텍스트만 추출\n",
    "df[\"Mileage_kmpl\"] = df[\"Mileage\"].str.split(\" \").str[0]\n",
    "df[\"Engine_cc\"] = df[\"Engine\"].str.split(\" \").str[0]\n",
    "df[\"Power_bhp\"] = df[\"Power\"].str.split(\" \").str[0]\n",
    "df #결과 확인"
   ]
  },
  {
   "cell_type": "code",
   "execution_count": null,
   "metadata": {},
   "outputs": [],
   "source": [
    "#분리한 열은 텍스트이므로 실수형으로 변환\n",
    "df[\"Mileage_kmpl\"] = df[\"Mileage_kmpl\"].astype(float)\n",
    "df[\"Engine_cc\"] = df[\"Engine_cc\"].astype(float)\n",
    "df[\"Power_bhp\"] = df[\"Power_bhp\"].astype(float)"
   ]
  },
  {
   "cell_type": "code",
   "execution_count": null,
   "metadata": {},
   "outputs": [],
   "source": [
    "#불필요 열 삭제\n",
    "df.drop([\"Name\"], axis=1, inplace=True)\n",
    "df.drop([\"Mileage\"], axis=1, inplace=True)\n",
    "df.drop([\"Engine\"], axis=1, inplace=True)\n",
    "df.drop([\"Power\"], axis=1, inplace=True)\n",
    "df.drop([\"Location\"], axis=1, inplace=True)\t\n",
    "\n",
    "#범주형 데이터 확인\n",
    "df.info() \t\n",
    "var_list = [\"Fuel_Type\", \"Transmission\", \"Owner_Type\"]\n",
    "for var in var_list:\n",
    "    print(var)\n",
    "    print(df[var].value_counts())\t\n",
    "\n",
    "#수치형 데이터 정보 요약\n",
    "df.describe()"
   ]
  },
  {
   "cell_type": "code",
   "execution_count": null,
   "metadata": {},
   "outputs": [],
   "source": [
    "#시각화\n",
    "df[\"Price\"].plot.hist(bins=100,color=\"lightblue\", edgecolor=\"red\") #Price 분포\n",
    "df.boxplot(column=[\"Price\"], by=\"Fuel_Type\") #연료별 가격대"
   ]
  },
  {
   "cell_type": "code",
   "execution_count": null,
   "metadata": {},
   "outputs": [],
   "source": [
    "#더미변수 생성, 범주형 데이터를 예측모델에 활용가능하도록 수치형으로 변환\n",
    "#Fuel_Type 등 범주형 변수를 카테고리별로 분리한 후, 데이터가 있는 열을 1로 표시\n",
    "train = pd.get_dummies(df)\n",
    "train #5872 X 17 크기의 데이터 확인"
   ]
  },
  {
   "cell_type": "code",
   "execution_count": null,
   "metadata": {},
   "outputs": [],
   "source": [
    "#독립변수 평균 및 표준편차 계산\n",
    "stats = train.describe() #데이터 요약\n",
    "stats.pop(\"Price\") #종속변수 제거\n",
    "stats = stats.transpose() #행-열 전치\n",
    "stats.to_csv(\"used_stats.csv\") #모델 활용을 위해 stats를 csv로 저장\n",
    "stats #데이터 확인"
   ]
  },
  {
   "cell_type": "markdown",
   "metadata": {},
   "source": [
    "2-3. 모델링 및 평가"
   ]
  },
  {
   "cell_type": "code",
   "execution_count": null,
   "metadata": {},
   "outputs": [],
   "source": [
    "#데이터 분할\n",
    "x_train = train.sample(frac=0.8, random_state=0) #데이터셋 분리 train 80%\n",
    "x_test = train.drop(x_train.index) #test 데이터셋 생성\n",
    "y_train = x_train.pop(\"Price\") #Price를 x_train에서 제거 후 y_train에 저장\n",
    "y_test = x_test.pop(\"Price\") #Price를 x_test에서 제거 후 y_test에 저장\n",
    "\n",
    "#데이터셋 표준화, 모델의 정확도 향상을 위해 극단값에 의한 영향을 제거\n",
    "def norm(x):\n",
    "  return (x - stats[\"mean\"]) / stats[\"std\"] #x를 한행씩 읽어와서 표준화 후 리턴\n",
    "normed_train = norm(x_train) #x_train 표준화\n",
    "normed_test = norm(x_test) #y_train 표준화 \n",
    "\n",
    "normed_train.shape, normed_test.shape #데이터셋 크기 확인"
   ]
  },
  {
   "cell_type": "code",
   "execution_count": null,
   "metadata": {},
   "outputs": [],
   "source": [
    "#네트워크 구조 정의\n",
    "model = tf.keras.models.Sequential([\n",
    "  tf.keras.layers.Dense(64, activation=\"relu\", input_shape=[len(x_train.keys())]),\n",
    "  tf.keras.layers.Dense(128, activation=\"relu\"), \n",
    "  tf.keras.layers.Dense(32, activation=\"relu\"),\n",
    "  tf.keras.layers.Dense(1)])\n",
    "\n",
    "model.summary() #네트워크 구조 출력"
   ]
  },
  {
   "cell_type": "code",
   "execution_count": null,
   "metadata": {},
   "outputs": [],
   "source": [
    "#모델 컴파일\n",
    "#컴파일시 손실함수로 mse, 최적화 함수로 Adam, 평가지표로 mae, mse 사용\n",
    "optimizer = tf.keras.optimizers.Adam(0.001)\n",
    "#optimizer = tf.keras.optimizers.RMSprop(0.001) #변경해서 학습해볼것\n",
    "model.compile(loss=\"mse\", optimizer=optimizer, metrics=[\"mae\", \"mse\"]) \n",
    "\n",
    "#학습 및 평가\n",
    "#train 데이터 중 25%를 validation 데이터로 나눠 학습, val_loss가 20 epochs 동안 향상이 안될때 학습 종료\n",
    "history= model.fit(normed_train, y_train, epochs=500, batch_size=64, validation_split=0.25,\n",
    "          callbacks=[tf.keras.callbacks.EarlyStopping(patience=20, monitor=\"val_loss\")])\n",
    "\n",
    "model.evaluate(normed_test, y_test, verbose=0)\t#test 데이터셋으로 모델 평가"
   ]
  },
  {
   "cell_type": "code",
   "execution_count": null,
   "metadata": {},
   "outputs": [],
   "source": [
    "#히스토리 출력\n",
    "hist = pd.DataFrame(history.history)\n",
    "hist[\"epoch\"] = history.epoch\n",
    "hist.tail()"
   ]
  },
  {
   "cell_type": "code",
   "execution_count": null,
   "metadata": {},
   "outputs": [],
   "source": [
    "#train, validation 데이터셋의 mae, mse 그래프 출력\n",
    "hist = pd.DataFrame(history.history) #history.history에 저장된 값을 데이터프레임으로 변환\n",
    "hist[\"epoch\"] = history.epoch #hist 데이터프레임에 epoch열 추가\n",
    "\n",
    "plt.figure(figsize=(12, 4))\n",
    "plt.subplot(1,2,1) #MAE 그래프 출력\n",
    "plt.xlabel(\"Epoch\")\n",
    "plt.ylabel(\"Mean Abs Error\")\n",
    "plt.plot(hist[\"epoch\"], hist[\"mae\"], label=\"Train Error\")\n",
    "plt.plot(hist[\"epoch\"], hist[\"val_mae\"], label = \"Val Error\")\n",
    "plt.legend()\n",
    "\n",
    "plt.subplot(1,2,2) #MSE 그래프 출력\n",
    "plt.xlabel(\"Epoch\")\n",
    "plt.ylabel(\"Mean Square Error\")\n",
    "plt.plot(hist[\"epoch\"], hist[\"mse\"], label=\"Train Error\")\n",
    "plt.plot(hist[\"epoch\"], hist[\"val_mse\"], label = \"Val Error\")\n",
    "plt.legend()\n",
    "plt.show()"
   ]
  },
  {
   "cell_type": "code",
   "execution_count": null,
   "metadata": {},
   "outputs": [],
   "source": [
    "#테스트 데이터로 원래 데이터와 예측결과 비교\n",
    "pred = model.predict(normed_test)\n",
    "plt.scatter(y_test,pred, marker=\".\")\n",
    "plt.xlabel(\"Price\")\n",
    "plt.ylabel(\"Predict\")\n",
    "plt.show()\n",
    "\n",
    "#결정계수(r squared) 산출\n",
    "y = y_test.to_numpy()\n",
    "ybar = np.sum(y) / len(y)\n",
    "ssr = np.sum((pred - ybar) ** 2)\n",
    "sst =  np.sum((y - ybar) ** 2)\n",
    "r_squared = ssr / sst\n",
    "print(round(r_squared * 100,2), \"%\")\n",
    "\n",
    "#케라스 모델로 저장\n",
    "save_path = \"used_model.h5\"\n",
    "model.save(save_path, include_optimizer=True)"
   ]
  },
  {
   "cell_type": "markdown",
   "metadata": {},
   "source": [
    "# 2. 학습된 모델로 추론(test)"
   ]
  },
  {
   "cell_type": "code",
   "execution_count": null,
   "metadata": {},
   "outputs": [],
   "source": [
    "#모듈 불러오기\n",
    "import numpy as np\n",
    "import pandas as pd\n",
    "import tensorflow as tf\n",
    "import matplotlib.pyplot as plt\n",
    "\n",
    "#데이터 & 모델 불러오기\n",
    "df_test = pd.read_csv(\"dataset_used_car/used_car_test.csv\")\n",
    "stats = pd.read_csv(\"used_stats.csv\", index_col=0) #첫번째 열을 인덱스로 지정\n",
    "model = tf.keras.models.load_model(\"used_model.h5\")\n",
    "\n",
    "#결측치 검출\n",
    "df_test.isnull().sum()\n",
    "\n",
    "#예측용 df 생성\n",
    "df_pred = df_test.copy()"
   ]
  },
  {
   "cell_type": "code",
   "execution_count": null,
   "metadata": {},
   "outputs": [],
   "source": [
    "#범주형 데이터에서 수치 분리\n",
    "df_pred[\"Mileage_kmpl\"] = df_pred[\"Mileage\"].str.split(\" \").str[0]\n",
    "df_pred[\"Engine_cc\"] = df_pred[\"Engine\"].str.split(\" \").str[0]\n",
    "df_pred[\"Power_bhp\"] = df_pred[\"Power\"].str.split(\" \").str[0]\n",
    "\n",
    "#실수형으로 변환\n",
    "df_pred[\"Mileage_kmpl\"] = df_pred[\"Mileage_kmpl\"].astype(float)\n",
    "df_pred[\"Engine_cc\"] = df_pred[\"Engine_cc\"].astype(float)\n",
    "df_pred[\"Power_bhp\"] = df_pred[\"Power_bhp\"].astype(float)\n",
    "\n",
    "#불필요 행 삭제\n",
    "df_pred.drop([\"Name\"], axis=1, inplace=True)\n",
    "df_pred.drop([\"Mileage\"], axis=1, inplace=True)\n",
    "df_pred.drop([\"Engine\"], axis=1, inplace=True)\n",
    "df_pred.drop([\"Power\"], axis=1, inplace=True)\n",
    "df_pred.drop([\"Location\"], axis=1, inplace=True)\n",
    "\n",
    "#더미변수 생성\n",
    "df_pred = pd.get_dummies(df_pred)"
   ]
  },
  {
   "cell_type": "code",
   "execution_count": null,
   "metadata": {},
   "outputs": [],
   "source": [
    "#데이터셋 표준화\n",
    "def norm(x):\n",
    "  return (x - stats[\"mean\"]) / stats[\"std\"] #x를 한행씩 읽어와서 표준화 후 리턴\n",
    "normed = norm(df_pred) #데이터셋 표준화\n",
    "\n",
    "#예측\n",
    "pred = model.predict(normed)\n",
    "\n",
    "#원본 데이터셋에 예측열 생성\n",
    "df_test[\"Price_predict\"] = pred\n",
    "\n",
    "#원본 데이터와 예측값을 csv 파일로 저장\n",
    "df_test.to_csv(\"used_car_predict.csv\", index=False)"
   ]
  }
 ],
 "metadata": {
  "interpreter": {
   "hash": "eaced25f405a968501a0306bf52a330115d216124dbbb2ff2564a9806cc98559"
  },
  "kernelspec": {
   "display_name": "Python 3.8.5 64-bit (system)",
   "language": "python",
   "name": "python3"
  },
  "language_info": {
   "codemirror_mode": {
    "name": "ipython",
    "version": 3
   },
   "file_extension": ".py",
   "mimetype": "text/x-python",
   "name": "python",
   "nbconvert_exporter": "python",
   "pygments_lexer": "ipython3",
   "version": "3.8.5"
  },
  "orig_nbformat": 4
 },
 "nbformat": 4,
 "nbformat_minor": 2
}
