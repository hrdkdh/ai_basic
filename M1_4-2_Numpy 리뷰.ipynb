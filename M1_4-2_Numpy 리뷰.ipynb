{
 "cells": [
  {
   "cell_type": "code",
   "execution_count": null,
   "metadata": {},
   "outputs": [],
   "source": [
    "#모듈 불러오기\n",
    "import numpy as np\t\t\t\t\n",
    "import tensorflow as tf\n",
    "\n",
    "#array 생성 \n",
    "arr1 = np.array([1, 2, 3]) #3, \n",
    "arr2 = np.array([[1.2, 2.2],  [3.3, 4.7]]) #2 X 2\n",
    "arr3 = np.array([[[1, 2], [3, 4], [5, 6]], [[1, 2], [3, 4], [5, 6]]]) #2 X 3 X 2 행렬"
   ]
  },
  {
   "cell_type": "code",
   "execution_count": null,
   "metadata": {},
   "outputs": [],
   "source": [
    "#데이터 모양 보기\n",
    "arr1.shape, arr2.shape, arr3.shape"
   ]
  },
  {
   "cell_type": "code",
   "execution_count": null,
   "metadata": {},
   "outputs": [],
   "source": [
    "#데이터 유형 보기\n",
    "arr1.dtype, arr2.dtype, arr3.dtype"
   ]
  },
  {
   "cell_type": "code",
   "execution_count": null,
   "metadata": {},
   "outputs": [],
   "source": [
    "#행렬 사칙연산\n",
    "arrp = arr1 + arr1\n",
    "arrm = arrp - arr1\n",
    "arrmul = arr2 * arr2\n",
    "arrdiv = arr1 / arr1"
   ]
  },
  {
   "cell_type": "code",
   "execution_count": null,
   "metadata": {},
   "outputs": [],
   "source": [
    "#벡터곱(내적) 연산\n",
    "arr1 = np.array([[1, 2, 3], [1, 2, 3]]) #2 X 3 행렬\n",
    "arr2 = np.array([[1, 2], [3, 4], [5, 6]]) #3 X 2 행렬\n",
    "arr12 = np.dot(arr1, arr2) #벡터곱(내적), arr12 = np.matmul(arr1,arr2)과 유사"
   ]
  },
  {
   "cell_type": "code",
   "execution_count": null,
   "metadata": {},
   "outputs": [],
   "source": [
    "#차원 변경 6 →  2 X 3\n",
    "arr1 = np.array([1, 22, 45, 18, 32, 9]) #행렬 생성\n",
    "a = arr1.reshape(2, 3) #2 X 3 으로 차원 변경\n",
    " \n",
    "#차원 변경 2 X 3 →  3 X 2\n",
    "b = arr1.reshape(3, 2) #3 X 2 로 차원 변경\n",
    "\n",
    "#차원 추가\n",
    "a = a.reshape(2, 3, 1) #뒤쪽에 차원 추가 2 X 3 X 1\n",
    "b = b.reshape(-1, 3, 2) #앞쪽에 차원 추가 1 X 3 X 2\n",
    "a.shape, b.shape"
   ]
  },
  {
   "cell_type": "code",
   "execution_count": null,
   "metadata": {},
   "outputs": [],
   "source": [
    "#기본함수\n",
    "arr1 = np.array([1, 22, 45, 18, 32, 9, 5]) #행렬 생성\n",
    "arr1.sum() #원소들의 합, np.sum(arr1)\n",
    "arr1.mean(), arr1.std(), arr1.var() #원소들의 평균, 편차, 분산, np.mean(arr1)\n",
    "arr1.max(), arr1.min() #최대값, 최소값, np.max(arr1)"
   ]
  },
  {
   "cell_type": "code",
   "execution_count": null,
   "metadata": {},
   "outputs": [],
   "source": [
    "#최대값, 최소값 위치 찾기\n",
    "arr1 = np.array([[1, 22, 45, 18, 32, 9, 5]])\n",
    "np.argmax(arr1), np.argmin(arr1) #최대값, 최소값이 있는 위치"
   ]
  },
  {
   "cell_type": "code",
   "execution_count": null,
   "metadata": {},
   "outputs": [],
   "source": [
    "#tensor 생성 및 출력\n",
    "tensor1 = tf.constant([[1, 2, 3], [4, 5, 6]]) #tensor 생성\n",
    "print(tensor1) #내용 출력\n",
    "print(type(tensor1)) #유형\n",
    "print(tensor1.shape) #데이터 크기"
   ]
  },
  {
   "cell_type": "code",
   "execution_count": null,
   "metadata": {},
   "outputs": [],
   "source": [
    "#numpy 함수 사용\n",
    "np.sum(tensor1) #원소들의 합\n",
    "np.mean(tensor1), np.std(tensor1), np.var(tensor1) #원소들의 평균, 편차, 분산\n",
    "np.max(tensor1), np.min(tensor1) #최대값, 최소값"
   ]
  },
  {
   "cell_type": "code",
   "execution_count": null,
   "metadata": {},
   "outputs": [],
   "source": [
    "#tensor 차원 추가, 축소\n",
    "tensor1[..., tf.newaxis] #tensor 뒤쪽에 차원 추가 2 X 3 X 1\n",
    "tensor1[tf.newaxis, ...] #tensor 앞쪽에 차원 추가 1 X 2 X 3"
   ]
  }
 ],
 "metadata": {
  "interpreter": {
   "hash": "eaced25f405a968501a0306bf52a330115d216124dbbb2ff2564a9806cc98559"
  },
  "kernelspec": {
   "display_name": "Python 3.8.5 64-bit",
   "language": "python",
   "name": "python3"
  },
  "language_info": {
   "codemirror_mode": {
    "name": "ipython",
    "version": 3
   },
   "file_extension": ".py",
   "mimetype": "text/x-python",
   "name": "python",
   "nbconvert_exporter": "python",
   "pygments_lexer": "ipython3",
   "version": "3.8.5"
  },
  "orig_nbformat": 4
 },
 "nbformat": 4,
 "nbformat_minor": 2
}
