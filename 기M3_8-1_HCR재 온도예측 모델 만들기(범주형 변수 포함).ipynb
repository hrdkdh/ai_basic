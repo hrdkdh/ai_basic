{
 "cells": [
  {
   "cell_type": "code",
   "execution_count": null,
   "metadata": {},
   "outputs": [],
   "source": [
    "#모듈 로드\n",
    "import pandas as pd\n",
    "import numpy as np\n",
    "import matplotlib.pyplot as plt\n",
    "import tensorflow as tf\n",
    "import seaborn as sns\n",
    "\n",
    "#그래프 한글깨짐 방지\n",
    "plt.rcParams[\"font.family\"] = \"Malgun Gothic\"\t\n",
    "\n",
    "#Pandas 옵션 설정(필요시 실행)\n",
    "#pd.set_option(\"display.max_columns\", None) #Pandas 모든열 출력 옵션 설정\n",
    "#pd.set_option(\"display.max_rows\", None) #Pandas 모든행 출력 옵션 설정\n",
    "#pd.options.display.max_columns = 20 #Pandas 컬럼 출력갯수 변경 옵션 설정"
   ]
  },
  {
   "cell_type": "markdown",
   "metadata": {},
   "source": [
    "### 데이터 로드 및 전처리"
   ]
  },
  {
   "cell_type": "code",
   "execution_count": null,
   "metadata": {},
   "outputs": [],
   "source": [
    "#데이터 불러오고 확인\n",
    "df = pd.read_csv(\"dataset_hcr/hcr.csv\", encoding=\"CP949\")\t#데이터 불러오기\n",
    "df.head() #앞 5행 출력"
   ]
  },
  {
   "cell_type": "code",
   "execution_count": null,
   "metadata": {},
   "outputs": [],
   "source": [
    "df.describe() #수치형 데이터 요약"
   ]
  },
  {
   "cell_type": "code",
   "execution_count": null,
   "metadata": {},
   "outputs": [],
   "source": [
    "df.shape #데이터 모양 확인 (113367, 34)"
   ]
  },
  {
   "cell_type": "code",
   "execution_count": null,
   "metadata": {},
   "outputs": [],
   "source": [
    "df.dtypes #변수별 유형 출력"
   ]
  },
  {
   "cell_type": "code",
   "execution_count": null,
   "metadata": {},
   "outputs": [],
   "source": [
    "#수치형 변수만 남기고 범주형 변수들은 제거\n",
    "#추후 범주형 변수를 one-hot encoding 하여 모델을 다시 만들어 볼 것\n",
    "numeric_vars = [] #수치형 변수를 저장할 빈 리스트 생성\n",
    "for col in df.columns: #df 컬럼명으로 반복\n",
    "    if df[col].dtype!=\"object\": #반복중인 df 컬럼의 데이터 타입이 범주형에 해당하지 않는다면\n",
    "        numeric_vars.append(col) #컬럼명을 수치형 변수 리스트에 추가\n",
    "df = df[numeric_vars] #수치형 변수에 해당하는 컬럼만 떼어내 df에 덮어쓰기\n",
    "df.info()\n",
    "#아래와 같이 한줄로 간단하게 할 수도 있음\n",
    "# df = df[[x for x in df.columns if df[x].dtype != \"object\"]]"
   ]
  },
  {
   "cell_type": "code",
   "execution_count": null,
   "metadata": {},
   "outputs": [],
   "source": [
    "#결측치 확인\n",
    "df.isnull().sum()"
   ]
  },
  {
   "cell_type": "code",
   "execution_count": null,
   "metadata": {},
   "outputs": [],
   "source": [
    "#결측치 제거\n",
    "df.dropna(inplace=True)\n",
    "df.shape #데이터셋 크기 확인 : (113263,25) → 기존 113367행에서 113263행으로 결측치 제거됨"
   ]
  },
  {
   "cell_type": "code",
   "execution_count": null,
   "metadata": {},
   "outputs": [],
   "source": [
    "#탐색적 분석 : 장입온도(target)과 독립변수간의 관계를 산점도로 그려 확인\n",
    "#KDE(커널밀도추정) 방식으로 지정해 히스토그램은 확률밀도함수를 추정하는 형태로 표현\n",
    "sns.pairplot(df[[\"장입온도\", \"SLAB폭\", \"SLAB길이\", \"SLAB중량\", \"단위내순서\"]], diag_kind=\"kde\")"
   ]
  },
  {
   "cell_type": "code",
   "execution_count": null,
   "metadata": {},
   "outputs": [],
   "source": [
    "#독립변수 표준화를 위해 변수별 평균과 표준편차를 계산하고, 추후 활용을 위해 csv로 저장\n",
    "stats = df.describe() #데이터 요약\n",
    "stats = stats.transpose() #행열 전치\n",
    "stats.to_csv(\"hcr_stats.csv\", encoding=\"CP949\") #저장\n",
    "stats"
   ]
  },
  {
   "cell_type": "code",
   "execution_count": null,
   "metadata": {},
   "outputs": [],
   "source": [
    "#데이터셋 분할 train 80%, test 20%\n",
    "x_train = df.sample(frac=0.8, random_state=0) #데이터셋 분리 train 80%\n",
    "x_test = df.drop(x_train.index) #test 데이터셋 생성\n",
    "y_train = x_train.pop(\"장입온도\") #x_train에서 장입온도 열 정보만 뽑아 y_train에 저장\n",
    "y_test = x_test.pop(\"장입온도\") #x_test에서 장입온도 열 정보만 뽑아 y_test에 저장\n",
    "\n",
    "x_train.shape, x_test.shape, y_train.shape, y_test.shape #train, test 데이터셋 확인"
   ]
  },
  {
   "cell_type": "code",
   "execution_count": null,
   "metadata": {},
   "outputs": [],
   "source": [
    "#수치형 데이터셋 표준화 함수 정의\n",
    "def norm(df):\n",
    "    result = df.copy()\n",
    "    for col in df.columns:\n",
    "        result[col] = (df[col] - stats.loc[col, \"mean\"]) / stats.loc[col, \"std\"]\n",
    "    return result\n",
    "\n",
    "x_train_normed = norm(x_train) #x_train 표준화\n",
    "x_test_normed = norm(x_test) #x_test 표준화"
   ]
  },
  {
   "cell_type": "markdown",
   "metadata": {},
   "source": [
    "### 모델 구성 및 학습"
   ]
  },
  {
   "cell_type": "code",
   "execution_count": null,
   "metadata": {},
   "outputs": [],
   "source": [
    "#네트워크 구조 정의\n",
    "model = tf.keras.models.Sequential([\n",
    "    tf.keras.layers.Dense(128, activation=\"relu\", input_shape=[len(x_train.columns)]),\n",
    "    tf.keras.layers.Dense(64, activation=\"relu\"),\n",
    "    tf.keras.layers.Dense(32, activation=\"relu\"),\n",
    "    tf.keras.layers.Dense(16, activation=\"relu\"),\n",
    "    tf.keras.layers.Dense(1)]\n",
    ")\n",
    "\n",
    "model.summary() #네트워크 구조 출력"
   ]
  },
  {
   "cell_type": "code",
   "execution_count": null,
   "metadata": {},
   "outputs": [],
   "source": [
    "#모델 컴파일. 손실함수로 mse, 최적화 함수로 Adam, 평가지표로 mae, mse 사용\n",
    "optimizer = tf.keras.optimizers.Adam() #tf.keras.optimizers.RMSprop()으로도 변경해서 학습해볼것\n",
    "model.compile(loss=\"mse\", optimizer=optimizer, metrics=[\"mae\", \"mse\"]) #손실함수는 MSE, 평가지표는 MAE와 MSE\n",
    "\n",
    "#학습 및 평가\n",
    "#train 데이터 중 25%를 validation 데이터로 나눠 학습, val_loss가 20 epochs 동안 향상이 안될때 학습 종료\n",
    "history= model.fit(x_train_normed, y_train, epochs=500, batch_size=32, validation_split=0.25,\n",
    "          callbacks=[tf.keras.callbacks.EarlyStopping(patience=20, monitor=\"val_loss\")])\n",
    "\n",
    "model.evaluate(x_test_normed, y_test, verbose=0) #test 데이터셋으로 모델 평가"
   ]
  },
  {
   "cell_type": "code",
   "execution_count": null,
   "metadata": {},
   "outputs": [],
   "source": [
    "#history 출력\n",
    "hist = pd.DataFrame(history.history) #history.history에 저장된 값을 데이터프레임으로 변환\n",
    "hist[\"epoch\"] = history.epoch #hist 데이터프레임에 ‘epoch’열 추가\n",
    "hist.tail()"
   ]
  },
  {
   "cell_type": "code",
   "execution_count": null,
   "metadata": {},
   "outputs": [],
   "source": [
    "#train, validation 데이터셋의 mae, mse 그래프 출력\n",
    "plt.figure(figsize=(12, 4))\n",
    "plt.subplot(1, 2, 1) #MAE 그래프 출력\n",
    "plt.xlabel(\"Epoch\")\n",
    "plt.ylabel(\"Mean Abs Error\")\n",
    "plt.plot(hist[\"epoch\"], hist[\"mae\"], label=\"Train Error\")\n",
    "plt.plot(hist[\"epoch\"], hist[\"val_mae\"], label = \"Val Error\")\n",
    "plt.legend()\n",
    "\n",
    "plt.subplot(1, 2, 2) #MSE 그래프 출력\n",
    "plt.xlabel(\"Epoch\")\n",
    "plt.ylabel(\"Mean Square Error\")\n",
    "plt.plot(hist[\"epoch\"], hist[\"mse\"], label=\"Train Error\")\n",
    "plt.plot(hist[\"epoch\"], hist[\"val_mse\"], label = \"Val Error\")\n",
    "plt.legend()\n",
    "plt.show()"
   ]
  },
  {
   "cell_type": "code",
   "execution_count": null,
   "metadata": {},
   "outputs": [],
   "source": [
    "#테스트 결과 확인\n",
    "pred = model.predict(x_test_normed)\n",
    "df_test = pd.DataFrame({\n",
    "    \"실제\" : y_test[:10], \"예측\" : pred[:10, 0], \"잔차\" : pred[:10, 0] - y_test[:10]\n",
    "})\n",
    "df_test"
   ]
  },
  {
   "cell_type": "code",
   "execution_count": null,
   "metadata": {},
   "outputs": [],
   "source": [
    "#산점도로 테스트 결과 확인\n",
    "plt.scatter(y_test, pred, marker=\".\")\n",
    "plt.xlabel(\"장입온도 실측값\")\n",
    "plt.ylabel(\"장입온도 예측값\")\n",
    "plt.show()"
   ]
  },
  {
   "cell_type": "code",
   "execution_count": null,
   "metadata": {},
   "outputs": [],
   "source": [
    "#결정계수(r squared) 산출\n",
    "y = y_test.to_numpy()\n",
    "ybar = np.sum(y)/len(y)\n",
    "ssr = np.sum((pred-ybar)**2)\n",
    "sst =  np.sum((y-ybar)**2)\n",
    "r_squared =ssr/sst\n",
    "print(\"r_squared : {}%\".format(round(r_squared*100,2)))\n",
    "\n",
    "#케라스 모델로 저장\n",
    "save_path = \"hcr_model.h5\"\n",
    "model.save(save_path, include_optimizer=True)"
   ]
  },
  {
   "cell_type": "markdown",
   "metadata": {},
   "source": [
    "### 모델 활용"
   ]
  },
  {
   "cell_type": "code",
   "execution_count": null,
   "metadata": {},
   "outputs": [],
   "source": [
    "#저장한 모델 활용을 위한 predict 코드\n",
    "#새로운 데이터에 개발한 모델을 활용하기 위해서는 모델 개발시의 전처리 과정을 똑같이 거쳐야 함\n",
    "import pandas as pd\n",
    "import numpy as np\n",
    "import tensorflow as tf\n",
    "plt.rcParams[\"font.family\"] = \"Malgun Gothic\"\n",
    "\n",
    "df = pd.read_csv(\"dataset_hcr/hcr_predict.csv\", encoding=\"CP949\") #새로운 데이터 불러오기\n",
    "stats = pd.read_csv(\"hcr_stats.csv\", index_col=0, encoding=\"CP949\") #첫번째 열을 인덱스로 지정\n",
    "\n",
    "#모델 불러오기\n",
    "hcr_model = tf.keras.models.load_model(\"hcr_model.h5\")\n",
    "\n",
    "#수치형 변수들의 컬럼만 뽑아 numeric_vars에 저장\n",
    "numeric_vars = []\n",
    "for col in df.columns:\n",
    "    if df[col].dtypes != \"object\":\n",
    "        numeric_vars.append(col)\n",
    "\n",
    "#데이터 전처리, 결측치 없는 수치형 데이터 추출\n",
    "df_treatment = df[numeric_vars]\n",
    "df_treatment"
   ]
  },
  {
   "cell_type": "code",
   "execution_count": null,
   "metadata": {},
   "outputs": [],
   "source": [
    "#데이터셋 표준화\n",
    "def norm(df):\n",
    "    result = df.copy()\n",
    "    for col in df.columns:\n",
    "        result[col] = (df[col] - stats.loc[col, \"mean\"]) / stats.loc[col, \"std\"]\n",
    "    return result\n",
    "\n",
    "normed = norm(df_treatment)\n",
    "\n",
    "#예측\n",
    "pred = hcr_model.predict(normed)\n",
    "df[\"장입온도예측치\"] = pred.astype(\"int\") #실수를 정수로 변환\n",
    "df.to_csv(\"hcr_result.csv\", index=None, encoding=\"CP949\")\t#결과 저장\n",
    "\n",
    "df\n",
    "#hcr_result.csv 파일 확인시 마지막열에 장입온도예측치가 추가된것을 확인할 수 있음"
   ]
  }
 ],
 "metadata": {
  "interpreter": {
   "hash": "27d72380f3865b4c7008c9c7901bfeb11f576f51ea7eb885160f000a78c1db8d"
  },
  "kernelspec": {
   "display_name": "Python 3.7.9 64-bit",
   "language": "python",
   "name": "python3"
  },
  "language_info": {
   "codemirror_mode": {
    "name": "ipython",
    "version": 3
   },
   "file_extension": ".py",
   "mimetype": "text/x-python",
   "name": "python",
   "nbconvert_exporter": "python",
   "pygments_lexer": "ipython3",
   "version": "3.7.9"
  },
  "orig_nbformat": 4
 },
 "nbformat": 4,
 "nbformat_minor": 2
}
