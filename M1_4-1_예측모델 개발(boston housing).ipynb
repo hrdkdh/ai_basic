{
 "cells": [
  {
   "cell_type": "code",
   "execution_count": null,
   "metadata": {},
   "outputs": [],
   "source": [
    "#모듈 불러오기\n",
    "import numpy as np\n",
    "import matplotlib.pyplot as plt\n",
    "import tensorflow as tf\n",
    "\n",
    "#데이터셋 불러오기\n",
    "boston = tf.keras.datasets.boston_housing\n",
    "(x_train, y_train), (x_test, y_test) = boston.load_data()\n",
    "\n",
    "#데이터셋 들여다 보기\n",
    "print(x_train.shape) #데이터셋 모양(404,13)\n",
    "print(y_train.shape) #데이터셋 모양(404,)\n",
    "print(x_train[0]) #첫번째 x 변수 내용 \n",
    "print(y_train[0]) #첫번째 y 변수 내용 "
   ]
  },
  {
   "cell_type": "code",
   "execution_count": null,
   "metadata": {},
   "outputs": [],
   "source": [
    "#데이터셋 유형 : numpy.ndarray\n",
    "print(type(x_train))\n",
    "print(type(y_train))"
   ]
  },
  {
   "cell_type": "code",
   "execution_count": null,
   "metadata": {},
   "outputs": [],
   "source": [
    "#테스트 데이터셋 모양\n",
    "print(x_test.shape)\n",
    "print(y_test.shape)"
   ]
  },
  {
   "cell_type": "code",
   "execution_count": null,
   "metadata": {},
   "outputs": [],
   "source": [
    "#네트워크 구조 정의\n",
    "model = tf.keras.models.Sequential([\n",
    "    tf.keras.Input(shape=13),\n",
    "    tf.keras.layers.Dense(64, activation=\"relu\"),\n",
    "    tf.keras.layers.Dense(32, activation=\"relu\"),    \n",
    "    tf.keras.layers.Dense(16, activation=\"relu\"), \n",
    "    tf.keras.layers.Dense(8, activation=\"relu\"), \n",
    "    tf.keras.layers.Dense(1)]\n",
    ")\n",
    "\n",
    "#네크워크 구조 출력\n",
    "model.summary()"
   ]
  },
  {
   "cell_type": "code",
   "execution_count": null,
   "metadata": {},
   "outputs": [],
   "source": [
    "#모델 컴파일\n",
    "optimizer = tf.keras.optimizers.Adam(0.001) #최적화함수로 Adam 활용, 학습율 0.001 지정\n",
    "#optimizer = tf.keras.optimizers.RMSprop(0.001) #최적화함수로 RMSprop 활용, 학습율 0.001 지정\n",
    "model.compile(loss=\"mse\", #손실함수로 mse 사용\n",
    "              optimizer=optimizer)\n",
    "\n",
    "#모델 훈련 및 평가 \n",
    "model.fit(x_train, y_train, epochs=1000) #epochs 1,000회 지정 후 학습\n",
    "model.evaluate(x_test,  y_test, verbose=2)\n",
    "\n",
    "#학습시 batch size 32로 지정, train dataset 중 25%를 validation data로 활용\n",
    "#callback 함수 활용 방법 :  val_loss가 20 epochs 동안 향상이 안될때 과적합 방지를 위해 학습 중단\n",
    "#model.fit(x_train, y_train, epochs=1000,batch_size=32, validation_split=0.25,\n",
    "#       callbacks=[tf.keras.callbacks.EarlyStopping(patience=20, monitor=\"val_loss\")])"
   ]
  },
  {
   "cell_type": "code",
   "execution_count": null,
   "metadata": {},
   "outputs": [],
   "source": [
    "#예측 결과 확인\n",
    "pred = model.predict(x_test)\n",
    "plt.scatter(y_test,pred)"
   ]
  }
 ],
 "metadata": {
  "interpreter": {
   "hash": "eaced25f405a968501a0306bf52a330115d216124dbbb2ff2564a9806cc98559"
  },
  "kernelspec": {
   "display_name": "Python 3.8.5 64-bit",
   "language": "python",
   "name": "python3"
  },
  "language_info": {
   "codemirror_mode": {
    "name": "ipython",
    "version": 3
   },
   "file_extension": ".py",
   "mimetype": "text/x-python",
   "name": "python",
   "nbconvert_exporter": "python",
   "pygments_lexer": "ipython3",
   "version": "3.8.5"
  },
  "orig_nbformat": 4
 },
 "nbformat": 4,
 "nbformat_minor": 2
}
